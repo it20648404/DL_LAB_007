{
  "cells": [
    {
      "cell_type": "markdown",
      "metadata": {
        "id": "view-in-github",
        "colab_type": "text"
      },
      "source": [
        "<a href=\"https://colab.research.google.com/github/it20648404/DL_LAB_007/blob/main/lab_7_AE_Vanilla_CNN.ipynb\" target=\"_parent\"><img src=\"https://colab.research.google.com/assets/colab-badge.svg\" alt=\"Open In Colab\"/></a>"
      ]
    },
    {
      "cell_type": "code",
      "execution_count": 1,
      "id": "f4340427",
      "metadata": {
        "id": "f4340427"
      },
      "outputs": [],
      "source": [
        "import matplotlib.pyplot as plt\n",
        "import numpy as np\n",
        "import pandas as pd\n",
        "import tensorflow as tf\n",
        "\n",
        "from sklearn.metrics import accuracy_score, precision_score, recall_score\n",
        "from sklearn.model_selection import train_test_split\n",
        "from tensorflow.keras import layers, losses\n",
        "from tensorflow.keras.datasets import fashion_mnist\n",
        "from tensorflow.keras.models import Model"
      ]
    },
    {
      "cell_type": "code",
      "execution_count": 2,
      "id": "a661149f",
      "metadata": {
        "colab": {
          "base_uri": "https://localhost:8080/"
        },
        "id": "a661149f",
        "outputId": "2becfa9c-0aed-4936-b442-be3b165de561"
      },
      "outputs": [
        {
          "output_type": "stream",
          "name": "stdout",
          "text": [
            "Downloading data from https://storage.googleapis.com/tensorflow/tf-keras-datasets/train-labels-idx1-ubyte.gz\n",
            "29515/29515 [==============================] - 0s 0us/step\n",
            "Downloading data from https://storage.googleapis.com/tensorflow/tf-keras-datasets/train-images-idx3-ubyte.gz\n",
            "26421880/26421880 [==============================] - 0s 0us/step\n",
            "Downloading data from https://storage.googleapis.com/tensorflow/tf-keras-datasets/t10k-labels-idx1-ubyte.gz\n",
            "5148/5148 [==============================] - 0s 0us/step\n",
            "Downloading data from https://storage.googleapis.com/tensorflow/tf-keras-datasets/t10k-images-idx3-ubyte.gz\n",
            "4422102/4422102 [==============================] - 0s 0us/step\n"
          ]
        }
      ],
      "source": [
        "(x_train, _), (x_test, _) = fashion_mnist.load_data()\n"
      ]
    },
    {
      "cell_type": "code",
      "execution_count": 3,
      "id": "23fc6f78",
      "metadata": {
        "id": "23fc6f78"
      },
      "outputs": [],
      "source": [
        "x_train = x_train.astype('float32') / 255.\n",
        "x_test = x_test.astype('float32') / 255.\n",
        "\n"
      ]
    },
    {
      "cell_type": "code",
      "execution_count": 4,
      "id": "1bdf4e3c",
      "metadata": {
        "colab": {
          "base_uri": "https://localhost:8080/"
        },
        "id": "1bdf4e3c",
        "outputId": "e5add6dc-c98b-43d3-9cea-4acd2d74ffec"
      },
      "outputs": [
        {
          "output_type": "stream",
          "name": "stdout",
          "text": [
            "(60000, 28, 28, 1)\n",
            "(10000, 28, 28, 1)\n"
          ]
        }
      ],
      "source": [
        "x_train = x_train[..., tf.newaxis] #adds a additional axis (60000,28,28) --> (60000,28,28,1)\n",
        "x_test = x_test[..., tf.newaxis]\n",
        "print(x_train.shape)\n",
        "print(x_test.shape)"
      ]
    },
    {
      "cell_type": "code",
      "execution_count": 5,
      "id": "b1855981",
      "metadata": {
        "colab": {
          "base_uri": "https://localhost:8080/",
          "height": 144
        },
        "id": "b1855981",
        "outputId": "de67a6de-c18b-4f54-ea15-970843054535"
      },
      "outputs": [
        {
          "output_type": "display_data",
          "data": {
            "text/plain": [
              "<Figure size 2000x200 with 10 Axes>"
            ],
            "image/png": "[encoded data removed]"
          },
          "metadata": {}
        }
      ],
      "source": [
        "n = 10\n",
        "plt.figure(figsize=(20, 2))\n",
        "for i in range(n):\n",
        "    ax = plt.subplot(1, n, i + 1)\n",
        "    plt.title(\"original\")\n",
        "    plt.imshow(tf.squeeze(x_test[i]))\n",
        "    plt.gray()\n",
        "plt.show()"
      ]
    },
    {
      "cell_type": "code",
      "execution_count": 6,
      "id": "d1551846",
      "metadata": {
        "id": "d1551846"
      },
      "outputs": [],
      "source": [
        "class Vanilla_CNN(Model):\n",
        "    def __init__(self):\n",
        "        super(Vanilla_CNN, self).__init__()\n",
        "        self.encoder = tf.keras.Sequential([\n",
        "          layers.Input(shape=(28, 28, 1)),\n",
        "          layers.Conv2D(16, (3, 3), activation='relu', padding='same', strides=2),\n",
        "          layers.Conv2D(8, (3, 3), activation='relu', padding='same', strides=2)])\n",
        "\n",
        "        self.decoder = tf.keras.Sequential([\n",
        "          layers.Conv2DTranspose(8, kernel_size=3, strides=2, activation='relu', padding='same'),\n",
        "          layers.Conv2DTranspose(16, kernel_size=3, strides=2, activation='relu', padding='same'),\n",
        "          layers.Conv2D(1, kernel_size=(3, 3), activation='sigmoid', padding='same')])\n",
        "\n",
        "    def call(self, x):\n",
        "        encoded = self.encoder(x)\n",
        "        decoded = self.decoder(encoded)\n",
        "        return decoded\n"
      ]
    },
    {
      "cell_type": "code",
      "execution_count": 7,
      "id": "4f5d5af9",
      "metadata": {
        "id": "4f5d5af9"
      },
      "outputs": [],
      "source": [
        "autoencoder = Vanilla_CNN()"
      ]
    },
    {
      "cell_type": "code",
      "execution_count": 8,
      "id": "c90c91be",
      "metadata": {
        "id": "c90c91be"
      },
      "outputs": [],
      "source": [
        "autoencoder.compile(optimizer='adam', loss=losses.MeanSquaredError())"
      ]
    },
    {
      "cell_type": "code",
      "execution_count": 9,
      "id": "7c615184",
      "metadata": {
        "colab": {
          "base_uri": "https://localhost:8080/"
        },
        "id": "7c615184",
        "outputId": "37e29427-9d04-45b4-dc54-89c33f869897"
      },
      "outputs": [
        {
          "output_type": "stream",
          "name": "stdout",
          "text": [
            "Epoch 1/30\n",
            "1875/1875 [==============================] - 76s 39ms/step - loss: 0.0147 - val_loss: 0.0063\n",
            "Epoch 2/30\n",
            "1875/1875 [==============================] - 58s 31ms/step - loss: 0.0055 - val_loss: 0.0046\n",
            "Epoch 3/30\n",
            "1875/1875 [==============================] - 53s 28ms/step - loss: 0.0041 - val_loss: 0.0038\n",
            "Epoch 4/30\n",
            "1875/1875 [==============================] - 54s 29ms/step - loss: 0.0036 - val_loss: 0.0035\n",
            "Epoch 5/30\n",
            "1875/1875 [==============================] - 54s 29ms/step - loss: 0.0034 - val_loss: 0.0034\n",
            "Epoch 6/30\n",
            "1875/1875 [==============================] - 53s 28ms/step - loss: 0.0033 - val_loss: 0.0033\n",
            "Epoch 7/30\n",
            "1875/1875 [==============================] - 52s 28ms/step - loss: 0.0032 - val_loss: 0.0032\n",
            "Epoch 8/30\n",
            "1875/1875 [==============================] - 54s 29ms/step - loss: 0.0031 - val_loss: 0.0031\n",
            "Epoch 9/30\n",
            "1875/1875 [==============================] - 53s 28ms/step - loss: 0.0030 - val_loss: 0.0030\n",
            "Epoch 10/30\n",
            "1875/1875 [==============================] - 53s 28ms/step - loss: 0.0030 - val_loss: 0.0030\n",
            "Epoch 11/30\n",
            "1875/1875 [==============================] - 55s 29ms/step - loss: 0.0029 - val_loss: 0.0030\n",
            "Epoch 12/30\n",
            "1875/1875 [==============================] - 53s 28ms/step - loss: 0.0029 - val_loss: 0.0029\n",
            "Epoch 13/30\n",
            "1875/1875 [==============================] - 55s 29ms/step - loss: 0.0028 - val_loss: 0.0028\n",
            "Epoch 14/30\n",
            "1875/1875 [==============================] - 53s 28ms/step - loss: 0.0028 - val_loss: 0.0028\n",
            "Epoch 15/30\n",
            "1875/1875 [==============================] - 52s 28ms/step - loss: 0.0028 - val_loss: 0.0028\n",
            "Epoch 16/30\n",
            "1875/1875 [==============================] - 54s 29ms/step - loss: 0.0028 - val_loss: 0.0027\n",
            "Epoch 17/30\n",
            "1875/1875 [==============================] - 53s 28ms/step - loss: 0.0027 - val_loss: 0.0027\n",
            "Epoch 18/30\n",
            "1875/1875 [==============================] - 53s 28ms/step - loss: 0.0027 - val_loss: 0.0027\n",
            "Epoch 19/30\n",
            "1875/1875 [==============================] - 55s 29ms/step - loss: 0.0027 - val_loss: 0.0027\n",
            "Epoch 20/30\n",
            "1875/1875 [==============================] - 54s 29ms/step - loss: 0.0027 - val_loss: 0.0027\n",
            "Epoch 21/30\n",
            "1875/1875 [==============================] - 54s 29ms/step - loss: 0.0026 - val_loss: 0.0027\n",
            "Epoch 22/30\n",
            "1875/1875 [==============================] - 54s 29ms/step - loss: 0.0026 - val_loss: 0.0026\n",
            "Epoch 23/30\n",
            "1875/1875 [==============================] - 52s 28ms/step - loss: 0.0026 - val_loss: 0.0026\n",
            "Epoch 24/30\n",
            "1875/1875 [==============================] - 53s 28ms/step - loss: 0.0026 - val_loss: 0.0026\n",
            "Epoch 25/30\n",
            "1875/1875 [==============================] - 53s 28ms/step - loss: 0.0026 - val_loss: 0.0026\n",
            "Epoch 26/30\n",
            "1875/1875 [==============================] - 52s 28ms/step - loss: 0.0026 - val_loss: 0.0026\n",
            "Epoch 27/30\n",
            "1875/1875 [==============================] - 52s 28ms/step - loss: 0.0026 - val_loss: 0.0026\n",
            "Epoch 28/30\n",
            "1875/1875 [==============================] - 53s 28ms/step - loss: 0.0026 - val_loss: 0.0026\n",
            "Epoch 29/30\n",
            "1875/1875 [==============================] - 53s 28ms/step - loss: 0.0026 - val_loss: 0.0026\n",
            "Epoch 30/30\n",
            "1875/1875 [==============================] - 55s 29ms/step - loss: 0.0025 - val_loss: 0.0025\n"
          ]
        },
        {
          "output_type": "execute_result",
          "data": {
            "text/plain": [
              "<keras.src.callbacks.History at 0x7a58379e1f60>"
            ]
          },
          "metadata": {},
          "execution_count": 9
        }
      ],
      "source": [
        "autoencoder.fit(x_train, x_train,\n",
        "                epochs=30,\n",
        "                shuffle=True,\n",
        "                validation_data=(x_test, x_test))"
      ]
    },
    {
      "cell_type": "code",
      "execution_count": 10,
      "id": "2a0e116f",
      "metadata": {
        "colab": {
          "base_uri": "https://localhost:8080/"
        },
        "id": "2a0e116f",
        "outputId": "597ee356-13a9-40ac-b9fe-f4029bba1f31"
      },
      "outputs": [
        {
          "output_type": "stream",
          "name": "stdout",
          "text": [
            "Model: \"sequential\"\n",
            "_________________________________________________________________\n",
            " Layer (type)                Output Shape              Param #   \n",
            "=================================================================\n",
            " conv2d (Conv2D)             (None, 14, 14, 16)        160       \n",
            "                                                                 \n",
            " conv2d_1 (Conv2D)           (None, 7, 7, 8)           1160      \n",
            "                                                                 \n",
            "=================================================================\n",
            "Total params: 1320 (5.16 KB)\n",
            "Trainable params: 1320 (5.16 KB)\n",
            "Non-trainable params: 0 (0.00 Byte)\n",
            "_________________________________________________________________\n"
          ]
        }
      ],
      "source": [
        "autoencoder.encoder.summary()\n"
      ]
    },
    {
      "cell_type": "code",
      "execution_count": 11,
      "id": "939358ef",
      "metadata": {
        "colab": {
          "base_uri": "https://localhost:8080/"
        },
        "id": "939358ef",
        "outputId": "f1f4903e-7edd-4e3c-fe88-7f276b417a9c"
      },
      "outputs": [
        {
          "output_type": "stream",
          "name": "stdout",
          "text": [
            "Model: \"sequential_1\"\n",
            "_________________________________________________________________\n",
            " Layer (type)                Output Shape              Param #   \n",
            "=================================================================\n",
            " conv2d_transpose (Conv2DTr  (None, 14, 14, 8)         584       \n",
            " anspose)                                                        \n",
            "                                                                 \n",
            " conv2d_transpose_1 (Conv2D  (None, 28, 28, 16)        1168      \n",
            " Transpose)                                                      \n",
            "                                                                 \n",
            " conv2d_2 (Conv2D)           (None, 28, 28, 1)         145       \n",
            "                                                                 \n",
            "=================================================================\n",
            "Total params: 1897 (7.41 KB)\n",
            "Trainable params: 1897 (7.41 KB)\n",
            "Non-trainable params: 0 (0.00 Byte)\n",
            "_________________________________________________________________\n"
          ]
        }
      ],
      "source": [
        "autoencoder.decoder.summary()\n"
      ]
    },
    {
      "cell_type": "code",
      "execution_count": 12,
      "id": "edcf1ee2",
      "metadata": {
        "id": "edcf1ee2"
      },
      "outputs": [],
      "source": [
        "encoded_imgs = autoencoder.encoder(x_test).numpy()\n",
        "decoded_imgs = autoencoder.decoder(encoded_imgs).numpy()"
      ]
    },
    {
      "cell_type": "code",
      "execution_count": 13,
      "id": "8b2fcf5b",
      "metadata": {
        "colab": {
          "base_uri": "https://localhost:8080/",
          "height": 241
        },
        "id": "8b2fcf5b",
        "outputId": "de2cc863-3c75-42d9-a002-4de4a26dfbcf"
      },
      "outputs": [
        {
          "output_type": "display_data",
          "data": {
            "text/plain": [
              "<Figure size 2000x400 with 20 Axes>"
            ],
            "image/png": "[encoded data removed]"
          },
          "metadata": {}
        }
      ],
      "source": [
        "n = 10\n",
        "plt.figure(figsize=(20, 4))\n",
        "for i in range(n):\n",
        "    # display original\n",
        "    ax = plt.subplot(2, n, i + 1)\n",
        "    plt.title(\"original\")\n",
        "    plt.imshow(tf.squeeze(x_test[i]))\n",
        "    plt.gray()\n",
        "    ax.get_xaxis().set_visible(False)\n",
        "    ax.get_yaxis().set_visible(False)\n",
        "\n",
        "    # display reconstruction\n",
        "    bx = plt.subplot(2, n, i + n + 1)\n",
        "    plt.title(\"reconstructed\")\n",
        "    plt.imshow(tf.squeeze(decoded_imgs[i]))\n",
        "    plt.gray()\n",
        "    bx.get_xaxis().set_visible(False)\n",
        "    bx.get_yaxis().set_visible(False)\n",
        "plt.show()"
      ]
    },
    {
      "cell_type": "code",
      "source": [
        "# Calculate the Mean Squard error loss for the test dataset\n",
        "test_loss = autoencoder.evaluate(x_test, x_test)\n",
        "print(f\"Mean Squared Error (MSE) Loss on Test Data: {test_loss:.4f}\")"
      ],
      "metadata": {
        "colab": {
          "base_uri": "https://localhost:8080/"
        },
        "id": "bnyUKnp203_j",
        "outputId": "889ba534-4ff4-46ea-fcf2-b3bf3597414c"
      },
      "id": "bnyUKnp203_j",
      "execution_count": 14,
      "outputs": [
        {
          "output_type": "stream",
          "name": "stdout",
          "text": [
            "313/313 [==============================] - 3s 9ms/step - loss: 0.0025\n",
            "Mean Squared Error (MSE) Loss on Test Data: 0.0025\n"
          ]
        }
      ]
    },
    {
      "cell_type": "code",
      "source": [
        "import matplotlib.pyplot as plt\n",
        "\n",
        "# Train the autoencoder and collect loss history\n",
        "history = autoencoder.fit(x_train, x_train,\n",
        "                          epochs=30,\n",
        "                          shuffle=True,\n",
        "                          validation_data=(x_test, x_test))\n",
        "\n",
        "# Extract loss values\n",
        "train_loss = history.history['loss']\n",
        "val_loss = history.history['val_loss']\n",
        "\n",
        "# Create a plot of the loss\n",
        "plt.figure(figsize=(10, 6))\n",
        "plt.plot(range(1, len(train_loss) + 1), train_loss, label='Training Loss')\n",
        "plt.plot(range(1, len(val_loss) + 1), val_loss, label='Validation Loss')\n",
        "plt.title('Training and Validation Loss')\n",
        "plt.xlabel('Epoch')\n",
        "plt.ylabel('Mean Squared Error (MSE) Loss')\n",
        "plt.legend()\n",
        "plt.grid(True)\n",
        "plt.show()"
      ],
      "metadata": {
        "colab": {
          "base_uri": "https://localhost:8080/"
        },
        "id": "O6zmOnm61CR-",
        "outputId": "66dc51c6-0350-4d46-c31f-88a0fce9f1b0"
      },
      "id": "O6zmOnm61CR-",
      "execution_count": null,
      "outputs": [
        {
          "output_type": "stream",
          "name": "stdout",
          "text": [
            "Epoch 1/30\n",
            "  19/1875 [..............................] - ETA: 52s - loss: 0.0022"
          ]
        }
      ]
    }
  ],
  "metadata": {
    "kernelspec": {
      "display_name": "Python 3",
      "language": "python",
      "name": "python3"
    },
    "language_info": {
      "codemirror_mode": {
        "name": "ipython",
        "version": 3
      },
      "file_extension": ".py",
      "mimetype": "text/x-python",
      "name": "python",
      "nbconvert_exporter": "python",
      "pygments_lexer": "ipython3",
      "version": "3.8.8"
    },
    "colab": {
      "provenance": [],
      "include_colab_link": true
    }
  },
  "nbformat": 4,
  "nbformat_minor": 5
}